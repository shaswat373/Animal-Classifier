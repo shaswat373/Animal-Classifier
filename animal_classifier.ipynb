{
  "nbformat": 4,
  "nbformat_minor": 0,
  "metadata": {
    "colab": {
      "provenance": []
    },
    "kernelspec": {
      "name": "python3",
      "display_name": "Python 3"
    },
    "language_info": {
      "name": "python"
    }
  },
  "cells": [
    {
      "cell_type": "code",
      "source": [
        "# Setup\n",
        "import numpy as np\n",
        "import matplotlib.pyplot as plt\n",
        "import tensorflow as tf\n",
        "from tensorflow.keras.models import load_model\n",
        "from PIL import Image\n",
        "import io\n",
        "from google.colab import files\n",
        "import urllib.request\n",
        "import os\n",
        "\n",
        "# Class Labels\n",
        "class_names = ['airplane', 'automobile', 'bird', 'cat', 'deer',\n",
        "               'dog', 'frog', 'horse', 'ship', 'truck']\n",
        "\n",
        "# Loading Model\n",
        "model_url = \"https://github.com/shaswat373/Animal-Classifier/raw/main/animal_classifier.h5\"\n",
        "model_path = \"animal_classifier.h5\"\n",
        "\n",
        "if not os.path.exists(model_path):\n",
        "    print(\"Downloading model from GitHub...\")\n",
        "    urllib.request.urlretrieve(model_url, model_path)\n",
        "    print(\"Model downloaded.\")\n",
        "\n",
        "model = load_model(model_path, compile=False)\n",
        "print(\"✅ Model loaded successfully.\")\n",
        "\n",
        "# Image Upload\n",
        "print(\"📤 Please upload an image of an animal (any size, RGB)...\")\n",
        "uploaded = files.upload()\n",
        "\n",
        "for filename in uploaded:\n",
        "    # Load and resize image\n",
        "    image = Image.open(io.BytesIO(uploaded[filename])).convert('RGB')\n",
        "    resized = image.resize((32, 32))\n",
        "    img_array = np.array(resized).astype('float32') / 255.0\n",
        "    img_array = img_array.reshape(1, 32, 32, 3)\n",
        "\n",
        "    # Predict\n",
        "    pred_probs = model.predict(img_array)[0]\n",
        "    predicted_class = np.argmax(pred_probs)\n",
        "    predicted_label = class_names[predicted_class]\n",
        "    confidence = pred_probs[predicted_class] * 100\n",
        "\n",
        "    # === DISPLAY ===\n",
        "    plt.imshow(image)\n",
        "    plt.title(f\"Predicted: {predicted_label} ({confidence:.2f}%)\")\n",
        "    plt.axis('off')\n",
        "    plt.show()\n"
      ],
      "metadata": {
        "id": "v3b3w9Zc3HR_"
      },
      "execution_count": null,
      "outputs": []
    }
  ]
}